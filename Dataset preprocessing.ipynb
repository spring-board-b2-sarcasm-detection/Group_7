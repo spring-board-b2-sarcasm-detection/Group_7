{
 "cells": [
  {
   "cell_type": "code",
   "execution_count": 26,
   "id": "7ce5cb68-f965-4043-8f1e-bdd5843083eb",
   "metadata": {},
   "outputs": [],
   "source": [
    "#################################################################                        TRAIN DATASET"
   ]
  },
  {
   "cell_type": "code",
   "execution_count": 49,
   "id": "416214dc-e806-445e-aede-c031b0f49962",
   "metadata": {},
   "outputs": [
    {
     "name": "stderr",
     "output_type": "stream",
     "text": [
      "C:\\Users\\haree\\AppData\\Local\\Temp\\ipykernel_5576\\2840705899.py:4: DtypeWarning: Columns (1) have mixed types. Specify dtype option on import or set low_memory=False.\n",
      "  df = pd.read_csv(file_path)\n"
     ]
    }
   ],
   "source": [
    "import pandas as pd\n",
    "#Loading the dataset\n",
    "file_path = 'train.csv'\n",
    "df = pd.read_csv(file_path)"
   ]
  },
  {
   "cell_type": "code",
   "execution_count": 28,
   "id": "a3e5055d-7a7d-4200-972c-dc82486424fc",
   "metadata": {},
   "outputs": [
    {
     "name": "stdout",
     "output_type": "stream",
     "text": [
      "\n",
      "Label distribution:\n",
      "label\n",
      "0.0    57518\n",
      "1.0    42481\n",
      "Name: count, dtype: int64\n"
     ]
    }
   ],
   "source": [
    "#Checking the distribution of labels\n",
    "label_counts = df['label'].value_counts()\n",
    "print(\"\\nLabel distribution:\")\n",
    "print(label_counts)"
   ]
  },
  {
   "cell_type": "code",
   "execution_count": 29,
   "id": "5ba40be2-4808-488e-924c-97ee92fe848f",
   "metadata": {},
   "outputs": [],
   "source": [
    "# Identifying minority and majority classes\n",
    "minority_class_size = label_counts.min()\n",
    "majority_class = label_counts.idxmax()\n",
    "minority_class = label_counts.idxmin()"
   ]
  },
  {
   "cell_type": "code",
   "execution_count": 30,
   "id": "0354303c-bc5b-400f-b07a-7126d2265fbc",
   "metadata": {},
   "outputs": [],
   "source": [
    "# Downsampling the majority class\n",
    "df_majority = df[df['label'] == majority_class]\n",
    "df_minority = df[df['label'] == minority_class]\n",
    "df_majority_downsampled = df_majority.sample(n=minority_class_size, random_state=42)"
   ]
  },
  {
   "cell_type": "code",
   "execution_count": 31,
   "id": "b79b4f08-54d9-4cd8-add9-a8f511c65847",
   "metadata": {},
   "outputs": [],
   "source": [
    "# Combining the downsampled majority class with the minority class\n",
    "df_balanced = pd.concat([df_majority_downsampled, df_minority])"
   ]
  },
  {
   "cell_type": "code",
   "execution_count": 32,
   "id": "eb2ef9ec-8b62-444f-ad2c-cfe576719cb4",
   "metadata": {},
   "outputs": [],
   "source": [
    "# Shuffling the dataset to mix the classes\n",
    "df_balanced = df_balanced.sample(frac=1, random_state=42).reset_index(drop=True)"
   ]
  },
  {
   "cell_type": "code",
   "execution_count": 33,
   "id": "bc96864e-501e-4071-9c5d-19a8faca7d07",
   "metadata": {},
   "outputs": [
    {
     "name": "stdout",
     "output_type": "stream",
     "text": [
      "\n",
      "New label distribution:\n",
      "label\n",
      "0.0    42481\n",
      "1.0    42481\n",
      "Name: count, dtype: int64\n"
     ]
    }
   ],
   "source": [
    "# Displaying the new label distribution\n",
    "new_label_counts = df_balanced['label'].value_counts()\n",
    "print(\"\\nNew label distribution:\")\n",
    "print(new_label_counts)"
   ]
  },
  {
   "cell_type": "code",
   "execution_count": 34,
   "id": "7eeffd1f-a5e8-4d74-978c-9b9d3961852d",
   "metadata": {},
   "outputs": [],
   "source": [
    "# Saving the balanced dataset to a new CSV file\n",
    "balanced_file_path = 'train_balanced.csv'\n",
    "df_balanced.to_csv(balanced_file_path, index=False)"
   ]
  },
  {
   "cell_type": "code",
   "execution_count": 35,
   "id": "aae1fa8e-8691-46f3-933c-cbd2070b41cc",
   "metadata": {},
   "outputs": [
    {
     "name": "stdout",
     "output_type": "stream",
     "text": [
      "\n",
      "Balanced dataset saved to train_balanced.csv\n"
     ]
    }
   ],
   "source": [
    "print(f\"\\nBalanced dataset saved to {balanced_file_path}\")"
   ]
  },
  {
   "cell_type": "code",
   "execution_count": 36,
   "id": "73caa633-2232-471d-b5e1-54409438f8c7",
   "metadata": {},
   "outputs": [
    {
     "name": "stdout",
     "output_type": "stream",
     "text": [
      "\n",
      "Label distribution in the balanced dataset:\n",
      "label\n",
      "0.0    42481\n",
      "1.0    42481\n",
      "Name: count, dtype: int64\n",
      "\n",
      "The dataset is balanced with equal numbers of 1s and 0s.\n"
     ]
    }
   ],
   "source": [
    "# Loading the balanced dataset\n",
    "df_balanced = pd.read_csv(balanced_file_path)\n",
    "\n",
    "# Checking the distribution of labels\n",
    "label_counts = df_balanced['label'].value_counts()\n",
    "print(\"\\nLabel distribution in the balanced dataset:\")\n",
    "print(label_counts)\n",
    "\n",
    "# Checking if the number of 1s and 0s are equal\n",
    "if label_counts[0] == label_counts[1]:\n",
    "    print(\"\\nThe dataset is balanced with equal numbers of 1s and 0s.\")\n",
    "else:\n",
    "    print(\"\\nThe dataset is not balanced. There are unequal numbers of 1s and 0s.\")"
   ]
  },
  {
   "cell_type": "code",
   "execution_count": 37,
   "id": "b87f96df-fbc9-4941-ada0-784e8f57abdb",
   "metadata": {},
   "outputs": [],
   "source": [
    "#####################################################################################             TEST DATASET"
   ]
  },
  {
   "cell_type": "code",
   "execution_count": 38,
   "id": "33cee78c-af08-4b85-8ed9-563f5e9d84f7",
   "metadata": {},
   "outputs": [],
   "source": [
    "import pandas as pd\n",
    "# Load the new dataset\n",
    "file_path = 'test.csv'\n",
    "df = pd.read_csv(file_path)"
   ]
  },
  {
   "cell_type": "code",
   "execution_count": 39,
   "id": "848b5fa9-a650-4058-909b-dfddda5baa33",
   "metadata": {},
   "outputs": [
    {
     "name": "stdout",
     "output_type": "stream",
     "text": [
      "First few rows of the dataset:\n",
      "   label                                            comment\n",
      "0    0.0  Mine auto renewed without asking me the other ...\n",
      "1    0.0                                                466\n",
      "2    0.0  This guy, there's no way he isn't trolling, ri...\n",
      "3    0.0  Funny how the media chose to never bring it up...\n",
      "4    0.0  TBH, that giant dent was probably made by the ...\n"
     ]
    }
   ],
   "source": [
    "# Display the first few rows of the dataset\n",
    "print(\"First few rows of the dataset:\")\n",
    "print(df.head())\n",
    "\n"
   ]
  },
  {
   "cell_type": "code",
   "execution_count": 40,
   "id": "4e54f834-b1d1-439d-bd5b-1d4ff35a287e",
   "metadata": {},
   "outputs": [
    {
     "name": "stdout",
     "output_type": "stream",
     "text": [
      "\n",
      "Label distribution:\n",
      "label\n",
      "0.0    11469\n",
      "1.0     8530\n",
      "Name: count, dtype: int64\n"
     ]
    }
   ],
   "source": [
    "# Check the distribution of labels\n",
    "label_counts = df['label'].value_counts()\n",
    "print(\"\\nLabel distribution:\")\n",
    "print(label_counts)"
   ]
  },
  {
   "cell_type": "code",
   "execution_count": 41,
   "id": "792d7535-30a1-4f1c-b941-d20ee4c1fc2e",
   "metadata": {},
   "outputs": [],
   "source": [
    "# Identify minority and majority classes\n",
    "minority_class_size = label_counts.min()\n",
    "majority_class = label_counts.idxmax()\n",
    "minority_class = label_counts.idxmin()\n"
   ]
  },
  {
   "cell_type": "code",
   "execution_count": 42,
   "id": "cab3ac4e-bf39-42c1-af5b-68eb2bb4f665",
   "metadata": {},
   "outputs": [],
   "source": [
    "# Downsample the majority class\n",
    "df_majority = df[df['label'] == majority_class]\n",
    "df_minority = df[df['label'] == minority_class]\n",
    "df_majority_downsampled = df_majority.sample(n=minority_class_size, random_state=42)"
   ]
  },
  {
   "cell_type": "code",
   "execution_count": 43,
   "id": "a7feddcb-56a8-436f-bb0f-702e178d0324",
   "metadata": {},
   "outputs": [],
   "source": [
    "# Combine the downsampled majority class with the minority class\n",
    "df_balanced = pd.concat([df_majority_downsampled, df_minority])"
   ]
  },
  {
   "cell_type": "code",
   "execution_count": 44,
   "id": "9b27c2e5-b5f6-441f-b656-658199ac6976",
   "metadata": {},
   "outputs": [],
   "source": [
    "# Shuffle the dataset to mix the classes\n",
    "df_balanced = df_balanced.sample(frac=1, random_state=42).reset_index(drop=True)"
   ]
  },
  {
   "cell_type": "code",
   "execution_count": 45,
   "id": "cc0e304d-e0ad-4c78-be9b-408b7876e2e4",
   "metadata": {},
   "outputs": [
    {
     "name": "stdout",
     "output_type": "stream",
     "text": [
      "\n",
      "New label distribution:\n",
      "label\n",
      "1.0    8530\n",
      "0.0    8530\n",
      "Name: count, dtype: int64\n"
     ]
    }
   ],
   "source": [
    "# Display the new label distribution\n",
    "new_label_counts = df_balanced['label'].value_counts()\n",
    "print(\"\\nNew label distribution:\")\n",
    "print(new_label_counts)"
   ]
  },
  {
   "cell_type": "code",
   "execution_count": 46,
   "id": "5489bc53-2da6-445b-9ee2-a9dbe3f0950f",
   "metadata": {},
   "outputs": [],
   "source": [
    "# Save the balanced dataset to a new CSV file in the current working directory\n",
    "balanced_file_path = 'test_balanced.csv'\n",
    "df_balanced.to_csv(balanced_file_path, index=False)"
   ]
  },
  {
   "cell_type": "code",
   "execution_count": 47,
   "id": "767a3b17-07bc-4b4c-9a9c-90caed43de87",
   "metadata": {},
   "outputs": [
    {
     "name": "stdout",
     "output_type": "stream",
     "text": [
      "\n",
      "Balanced dataset saved to test_balanced.csv\n"
     ]
    }
   ],
   "source": [
    "print(f\"\\nBalanced dataset saved to {balanced_file_path}\")"
   ]
  },
  {
   "cell_type": "code",
   "execution_count": 48,
   "id": "c2fe2793-c744-4a1a-b0c7-bb273fa99b80",
   "metadata": {},
   "outputs": [
    {
     "name": "stdout",
     "output_type": "stream",
     "text": [
      "\n",
      "Label distribution in the balanced dataset:\n",
      "label\n",
      "1.0    8530\n",
      "0.0    8530\n",
      "Name: count, dtype: int64\n",
      "\n",
      "The dataset is balanced with equal numbers of 1s and 0s.\n"
     ]
    }
   ],
   "source": [
    "# Load the balanced dataset\n",
    "df_balanced = pd.read_csv(balanced_file_path)\n",
    "\n",
    "# Check the distribution of labels\n",
    "label_counts = df_balanced['label'].value_counts()\n",
    "print(\"\\nLabel distribution in the balanced dataset:\")\n",
    "print(label_counts)\n",
    "\n",
    "# Check if the number of 1s and 0s are equal\n",
    "if label_counts[0] == label_counts[1]:\n",
    "    print(\"\\nThe dataset is balanced with equal numbers of 1s and 0s.\")\n",
    "else:\n",
    "    print(\"\\nThe dataset is not balanced. There are unequal numbers of 1s and 0s.\")"
   ]
  },
  {
   "cell_type": "code",
   "execution_count": null,
   "id": "c7827bc4-b9f8-4868-a506-0f1ad5a23460",
   "metadata": {},
   "outputs": [],
   "source": []
  },
  {
   "cell_type": "code",
   "execution_count": null,
   "id": "7942474e-38ba-4b66-8a4c-9b8aee88e273",
   "metadata": {},
   "outputs": [],
   "source": []
  },
  {
   "cell_type": "code",
   "execution_count": null,
   "id": "8713a69f-d12b-48c7-9beb-e2fe7fa3a2ce",
   "metadata": {},
   "outputs": [],
   "source": []
  },
  {
   "cell_type": "code",
   "execution_count": null,
   "id": "5b40817d-ac25-49b0-8411-db9f4ea99885",
   "metadata": {},
   "outputs": [],
   "source": []
  }
 ],
 "metadata": {
  "kernelspec": {
   "display_name": "Python 3 (ipykernel)",
   "language": "python",
   "name": "python3"
  },
  "language_info": {
   "codemirror_mode": {
    "name": "ipython",
    "version": 3
   },
   "file_extension": ".py",
   "mimetype": "text/x-python",
   "name": "python",
   "nbconvert_exporter": "python",
   "pygments_lexer": "ipython3",
   "version": "3.12.2"
  }
 },
 "nbformat": 4,
 "nbformat_minor": 5
}
