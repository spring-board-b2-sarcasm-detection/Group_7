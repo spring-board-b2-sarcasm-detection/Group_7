{
 "cells": [
  {
   "cell_type": "markdown",
   "id": "30e5451a-191a-47d6-8649-0346cae03050",
   "metadata": {},
   "source": [
    "#Hareetima"
   ]
  },
  {
   "cell_type": "markdown",
   "id": "75b29545-023a-49b0-b9b5-c9f46a8b72e1",
   "metadata": {},
   "source": [
    "Import Necessary Libraries\n",
    "\n",
    "\n",
    "\n",
    "Import pandas for data manipulation, re for regular expressions, and nltk for natural language processing.\n"
   ]
  },
  {
   "cell_type": "code",
   "execution_count": 36,
   "id": "2092e738-9396-438c-944f-251da95812fc",
   "metadata": {},
   "outputs": [],
   "source": [
    "import pandas as pd\n",
    "import numpy as np\n",
    "import re\n",
    "import string\n",
    "import nltk\n",
    "from nltk.corpus import stopwords\n",
    "from nltk.stem import WordNetLemmatizer"
   ]
  },
  {
   "cell_type": "markdown",
   "id": "7a91c3e1-83aa-4e5c-9de9-4ee963d9f60e",
   "metadata": {},
   "source": [
    "Download NLTK Data\n",
    "\n",
    "Download necessary NLTK data files for tokenization, stopwords, and lemmatization.\n"
   ]
  },
  {
   "cell_type": "code",
   "execution_count": 37,
   "id": "a89b856b-1daf-4076-aca7-4c6b8bddd505",
   "metadata": {},
   "outputs": [
    {
     "name": "stderr",
     "output_type": "stream",
     "text": [
      "[nltk_data] Downloading package stopwords to\n",
      "[nltk_data]     C:\\Users\\haree\\AppData\\Roaming\\nltk_data...\n",
      "[nltk_data]   Package stopwords is already up-to-date!\n",
      "[nltk_data] Downloading package wordnet to\n",
      "[nltk_data]     C:\\Users\\haree\\AppData\\Roaming\\nltk_data...\n",
      "[nltk_data]   Package wordnet is already up-to-date!\n"
     ]
    },
    {
     "data": {
      "text/plain": [
       "True"
      ]
     },
     "execution_count": 37,
     "metadata": {},
     "output_type": "execute_result"
    }
   ],
   "source": [
    "nltk.download('stopwords')\n",
    "nltk.download('wordnet')"
   ]
  },
  {
   "cell_type": "markdown",
   "id": "948d2044-cdc9-4ec5-b01f-c9ce84cf41b0",
   "metadata": {},
   "source": [
    "Load the uncleaned Dataset\n",
    "\n",
    "Load the dataset into a pandas DataFrame.\n"
   ]
  },
  {
   "cell_type": "code",
   "execution_count": 38,
   "id": "51b4de09-d551-40ee-b0ee-8aa7c59151b3",
   "metadata": {},
   "outputs": [],
   "source": [
    "file_path = 'uncleaned.csv'\n",
    "df = pd.read_csv(file_path)"
   ]
  },
  {
   "cell_type": "markdown",
   "id": "2bc4983b-457f-4fd3-abdc-d67e70fdc145",
   "metadata": {},
   "source": [
    "Display the first few rows of the dataset"
   ]
  },
  {
   "cell_type": "code",
   "execution_count": 39,
   "id": "88cc91d3-86ab-4015-b3b5-0619c53625c4",
   "metadata": {},
   "outputs": [
    {
     "name": "stdout",
     "output_type": "stream",
     "text": [
      "Original Data:\n"
     ]
    },
    {
     "data": {
      "text/html": [
       "<div>\n",
       "<style scoped>\n",
       "    .dataframe tbody tr th:only-of-type {\n",
       "        vertical-align: middle;\n",
       "    }\n",
       "\n",
       "    .dataframe tbody tr th {\n",
       "        vertical-align: top;\n",
       "    }\n",
       "\n",
       "    .dataframe thead th {\n",
       "        text-align: right;\n",
       "    }\n",
       "</style>\n",
       "<table border=\"1\" class=\"dataframe\">\n",
       "  <thead>\n",
       "    <tr style=\"text-align: right;\">\n",
       "      <th></th>\n",
       "      <th>label</th>\n",
       "      <th>comment</th>\n",
       "      <th>author</th>\n",
       "      <th>subreddit</th>\n",
       "      <th>score</th>\n",
       "      <th>ups</th>\n",
       "      <th>downs</th>\n",
       "      <th>date</th>\n",
       "      <th>created_utc</th>\n",
       "      <th>parent_comment</th>\n",
       "    </tr>\n",
       "  </thead>\n",
       "  <tbody>\n",
       "    <tr>\n",
       "      <th>0</th>\n",
       "      <td>0</td>\n",
       "      <td>NC and NH.</td>\n",
       "      <td>Trumpbart</td>\n",
       "      <td>politics</td>\n",
       "      <td>2</td>\n",
       "      <td>-1</td>\n",
       "      <td>-1</td>\n",
       "      <td>2016-10</td>\n",
       "      <td>10/16/2016 23:55</td>\n",
       "      <td>Yeah, I get that argument. At this point, I'd ...</td>\n",
       "    </tr>\n",
       "    <tr>\n",
       "      <th>1</th>\n",
       "      <td>0</td>\n",
       "      <td>You do know west teams play against west teams...</td>\n",
       "      <td>Shbshb906</td>\n",
       "      <td>nba</td>\n",
       "      <td>-4</td>\n",
       "      <td>-1</td>\n",
       "      <td>-1</td>\n",
       "      <td>2016-11</td>\n",
       "      <td>11/1/2016 0:24</td>\n",
       "      <td>The blazers and Mavericks (The wests 5 and 6 s...</td>\n",
       "    </tr>\n",
       "    <tr>\n",
       "      <th>2</th>\n",
       "      <td>0</td>\n",
       "      <td>They were underdogs earlier today, but since G...</td>\n",
       "      <td>Creepeth</td>\n",
       "      <td>nfl</td>\n",
       "      <td>3</td>\n",
       "      <td>3</td>\n",
       "      <td>0</td>\n",
       "      <td>2016-09</td>\n",
       "      <td>9/22/2016 21:45</td>\n",
       "      <td>They're favored to win.</td>\n",
       "    </tr>\n",
       "    <tr>\n",
       "      <th>3</th>\n",
       "      <td>0</td>\n",
       "      <td>This meme isn't funny none of the \"new york ni...</td>\n",
       "      <td>icebrotha</td>\n",
       "      <td>BlackPeopleTwitter</td>\n",
       "      <td>-8</td>\n",
       "      <td>-1</td>\n",
       "      <td>-1</td>\n",
       "      <td>2016-10</td>\n",
       "      <td>10/18/2016 21:03</td>\n",
       "      <td>deadass don't kill my buzz</td>\n",
       "    </tr>\n",
       "    <tr>\n",
       "      <th>4</th>\n",
       "      <td>0</td>\n",
       "      <td>I could use one of those tools.</td>\n",
       "      <td>cush2push</td>\n",
       "      <td>MaddenUltimateTeam</td>\n",
       "      <td>6</td>\n",
       "      <td>-1</td>\n",
       "      <td>-1</td>\n",
       "      <td>2016-12</td>\n",
       "      <td>12/30/2016 17:00</td>\n",
       "      <td>Yep can confirm I saw the tool they use for th...</td>\n",
       "    </tr>\n",
       "    <tr>\n",
       "      <th>5</th>\n",
       "      <td>0</td>\n",
       "      <td>I don't pay attention to her, but as long as s...</td>\n",
       "      <td>only7inches</td>\n",
       "      <td>AskReddit</td>\n",
       "      <td>0</td>\n",
       "      <td>0</td>\n",
       "      <td>0</td>\n",
       "      <td>2016-09</td>\n",
       "      <td>9/2/2016 10:35</td>\n",
       "      <td>do you find ariana grande sexy ?</td>\n",
       "    </tr>\n",
       "    <tr>\n",
       "      <th>6</th>\n",
       "      <td>0</td>\n",
       "      <td>Trick or treating in general is just weird...</td>\n",
       "      <td>only7inches</td>\n",
       "      <td>AskReddit</td>\n",
       "      <td>1</td>\n",
       "      <td>-1</td>\n",
       "      <td>-1</td>\n",
       "      <td>2016-10</td>\n",
       "      <td>10/23/2016 21:43</td>\n",
       "      <td>What's your weird or unsettling Trick or Treat...</td>\n",
       "    </tr>\n",
       "    <tr>\n",
       "      <th>7</th>\n",
       "      <td>0</td>\n",
       "      <td>Blade Mastery+Masamune or GTFO!</td>\n",
       "      <td>P0k3rm4s7</td>\n",
       "      <td>FFBraveExvius</td>\n",
       "      <td>2</td>\n",
       "      <td>-1</td>\n",
       "      <td>-1</td>\n",
       "      <td>2016-10</td>\n",
       "      <td>10/13/2016 21:13</td>\n",
       "      <td>Probably Sephiroth. I refuse to taint his grea...</td>\n",
       "    </tr>\n",
       "    <tr>\n",
       "      <th>8</th>\n",
       "      <td>0</td>\n",
       "      <td>You don't have to, you have a good build, buy ...</td>\n",
       "      <td>SoupToPots</td>\n",
       "      <td>pcmasterrace</td>\n",
       "      <td>1</td>\n",
       "      <td>-1</td>\n",
       "      <td>-1</td>\n",
       "      <td>2016-10</td>\n",
       "      <td>10/27/2016 19:11</td>\n",
       "      <td>What to upgrade? I have $500 to spend (mainly ...</td>\n",
       "    </tr>\n",
       "    <tr>\n",
       "      <th>9</th>\n",
       "      <td>0</td>\n",
       "      <td>I would love to see him at lolla.</td>\n",
       "      <td>chihawks</td>\n",
       "      <td>Lollapalooza</td>\n",
       "      <td>2</td>\n",
       "      <td>-1</td>\n",
       "      <td>-1</td>\n",
       "      <td>2016-11</td>\n",
       "      <td>11/21/2016 23:39</td>\n",
       "      <td>Probably count Kanye out Since the rest of his...</td>\n",
       "    </tr>\n",
       "  </tbody>\n",
       "</table>\n",
       "</div>"
      ],
      "text/plain": [
       "   label                                            comment       author  \\\n",
       "0      0                                         NC and NH.    Trumpbart   \n",
       "1      0  You do know west teams play against west teams...    Shbshb906   \n",
       "2      0  They were underdogs earlier today, but since G...     Creepeth   \n",
       "3      0  This meme isn't funny none of the \"new york ni...    icebrotha   \n",
       "4      0                    I could use one of those tools.    cush2push   \n",
       "5      0  I don't pay attention to her, but as long as s...  only7inches   \n",
       "6      0      Trick or treating in general is just weird...  only7inches   \n",
       "7      0                    Blade Mastery+Masamune or GTFO!    P0k3rm4s7   \n",
       "8      0  You don't have to, you have a good build, buy ...   SoupToPots   \n",
       "9      0                  I would love to see him at lolla.     chihawks   \n",
       "\n",
       "            subreddit  score  ups  downs     date       created_utc  \\\n",
       "0            politics      2   -1     -1  2016-10  10/16/2016 23:55   \n",
       "1                 nba     -4   -1     -1  2016-11    11/1/2016 0:24   \n",
       "2                 nfl      3    3      0  2016-09   9/22/2016 21:45   \n",
       "3  BlackPeopleTwitter     -8   -1     -1  2016-10  10/18/2016 21:03   \n",
       "4  MaddenUltimateTeam      6   -1     -1  2016-12  12/30/2016 17:00   \n",
       "5           AskReddit      0    0      0  2016-09    9/2/2016 10:35   \n",
       "6           AskReddit      1   -1     -1  2016-10  10/23/2016 21:43   \n",
       "7       FFBraveExvius      2   -1     -1  2016-10  10/13/2016 21:13   \n",
       "8        pcmasterrace      1   -1     -1  2016-10  10/27/2016 19:11   \n",
       "9        Lollapalooza      2   -1     -1  2016-11  11/21/2016 23:39   \n",
       "\n",
       "                                      parent_comment  \n",
       "0  Yeah, I get that argument. At this point, I'd ...  \n",
       "1  The blazers and Mavericks (The wests 5 and 6 s...  \n",
       "2                            They're favored to win.  \n",
       "3                         deadass don't kill my buzz  \n",
       "4  Yep can confirm I saw the tool they use for th...  \n",
       "5                   do you find ariana grande sexy ?  \n",
       "6  What's your weird or unsettling Trick or Treat...  \n",
       "7  Probably Sephiroth. I refuse to taint his grea...  \n",
       "8  What to upgrade? I have $500 to spend (mainly ...  \n",
       "9  Probably count Kanye out Since the rest of his...  "
      ]
     },
     "execution_count": 39,
     "metadata": {},
     "output_type": "execute_result"
    }
   ],
   "source": [
    "print(\"Original Data:\")\n",
    "df.head(10)"
   ]
  },
  {
   "cell_type": "markdown",
   "id": "6bb526f3-69b3-439b-bfa6-c59d3279963c",
   "metadata": {},
   "source": [
    "Remove duplicates\n",
    "\n",
    "Remove noise (e.g., missing values)\n",
    "\n",
    "Ensure only the 'label' and 'comment' columns are retained"
   ]
  },
  {
   "cell_type": "code",
   "execution_count": 42,
   "id": "a24f5e4a-06be-4633-8c14-488c3c77a5c3",
   "metadata": {},
   "outputs": [
    {
     "name": "stdout",
     "output_type": "stream",
     "text": [
      "Number of duplicates: 0\n"
     ]
    }
   ],
   "source": [
    "#count duplicates\n",
    "num_duplicates = df.duplicated().sum()\n",
    "print(f\"Number of duplicates: {num_duplicates}\")\n",
    "\n",
    "#Remove duplicates\n",
    "df = df.drop_duplicates()\n",
    "\n",
    "#Remove noise (e.g., missing values)\n",
    "df = df.dropna(subset=['label', 'comment'])\n",
    "\n",
    "#Ensure only the 'label' and 'comment' columns are retained\n",
    "df = df[['label', 'comment']]"
   ]
  },
  {
   "cell_type": "markdown",
   "id": "67ec70eb-f18e-4643-a6ee-e9bcd98c6645",
   "metadata": {},
   "source": [
    "Text cleaning function"
   ]
  },
  {
   "cell_type": "code",
   "execution_count": 14,
   "id": "6a39cffb-fe38-44e8-b8a9-0b22a4589d29",
   "metadata": {},
   "outputs": [],
   "source": [
    "def clean_text(text):\n",
    "    text = text.lower()  # Lowercasing\n",
    "    text = text.translate(str.maketrans('', '', string.punctuation))  # Removing punctuation\n",
    "    text = re.sub(r'[^a-z\\s]', '', text)  # Removing special characters and numbers\n",
    "    return text\n",
    "\n",
    "\n",
    "# Apply text cleaning to the 'comment' column\n",
    "df['comment'] = df['comment'].apply(clean_text)"
   ]
  },
  {
   "cell_type": "markdown",
   "id": "6ec37ea8-c50e-4a42-bd96-f809f90541c4",
   "metadata": {},
   "source": [
    "Remove stopwords and lemmatize"
   ]
  },
  {
   "cell_type": "code",
   "execution_count": 15,
   "id": "bec50040-63fc-4c85-b4d7-1d5cea07dea4",
   "metadata": {},
   "outputs": [],
   "source": [
    "stop_words = set(stopwords.words('english'))\n",
    "lemmatizer = WordNetLemmatizer()\n",
    "\n",
    "\n",
    "def preprocess_text(text):\n",
    "    tokens = text.split()\n",
    "    tokens = [word for word in tokens if word not in stop_words]  # Remove stopwords\n",
    "    tokens = [lemmatizer.lemmatize(word) for word in tokens]  # Lemmatization\n",
    "    return ' '.join(tokens)\n",
    "\n",
    "df['comment'] = df['comment'].apply(preprocess_text)\n"
   ]
  },
  {
   "cell_type": "markdown",
   "id": "ddee1466-652f-46a9-94bc-873324620959",
   "metadata": {},
   "source": [
    "Save the cleaned dataset to a new CSV file"
   ]
  },
  {
   "cell_type": "code",
   "execution_count": 16,
   "id": "cdc236f3-f489-468c-a95e-4d7cf941a367",
   "metadata": {},
   "outputs": [
    {
     "name": "stdout",
     "output_type": "stream",
     "text": [
      "Cleaned dataset saved to cleaned_comments_FINAL.csv\n",
      "cleaned Data:\n"
     ]
    },
    {
     "data": {
      "text/html": [
       "<div>\n",
       "<style scoped>\n",
       "    .dataframe tbody tr th:only-of-type {\n",
       "        vertical-align: middle;\n",
       "    }\n",
       "\n",
       "    .dataframe tbody tr th {\n",
       "        vertical-align: top;\n",
       "    }\n",
       "\n",
       "    .dataframe thead th {\n",
       "        text-align: right;\n",
       "    }\n",
       "</style>\n",
       "<table border=\"1\" class=\"dataframe\">\n",
       "  <thead>\n",
       "    <tr style=\"text-align: right;\">\n",
       "      <th></th>\n",
       "      <th>label</th>\n",
       "      <th>comment</th>\n",
       "    </tr>\n",
       "  </thead>\n",
       "  <tbody>\n",
       "    <tr>\n",
       "      <th>0</th>\n",
       "      <td>0</td>\n",
       "      <td>nc nh</td>\n",
       "    </tr>\n",
       "    <tr>\n",
       "      <th>1</th>\n",
       "      <td>0</td>\n",
       "      <td>know west team play west team east team right</td>\n",
       "    </tr>\n",
       "    <tr>\n",
       "      <th>2</th>\n",
       "      <td>0</td>\n",
       "      <td>underdog earlier today since gronks announceme...</td>\n",
       "    </tr>\n",
       "    <tr>\n",
       "      <th>3</th>\n",
       "      <td>0</td>\n",
       "      <td>meme isnt funny none new york nigga one</td>\n",
       "    </tr>\n",
       "    <tr>\n",
       "      <th>4</th>\n",
       "      <td>0</td>\n",
       "      <td>could use one tool</td>\n",
       "    </tr>\n",
       "    <tr>\n",
       "      <th>5</th>\n",
       "      <td>0</td>\n",
       "      <td>dont pay attention long shes legal wouldnt kic...</td>\n",
       "    </tr>\n",
       "    <tr>\n",
       "      <th>6</th>\n",
       "      <td>0</td>\n",
       "      <td>trick treating general weird</td>\n",
       "    </tr>\n",
       "    <tr>\n",
       "      <th>7</th>\n",
       "      <td>0</td>\n",
       "      <td>blade masterymasamune gtfo</td>\n",
       "    </tr>\n",
       "    <tr>\n",
       "      <th>8</th>\n",
       "      <td>0</td>\n",
       "      <td>dont good build buy game save</td>\n",
       "    </tr>\n",
       "    <tr>\n",
       "      <th>9</th>\n",
       "      <td>0</td>\n",
       "      <td>would love see lolla</td>\n",
       "    </tr>\n",
       "  </tbody>\n",
       "</table>\n",
       "</div>"
      ],
      "text/plain": [
       "   label                                            comment\n",
       "0      0                                              nc nh\n",
       "1      0      know west team play west team east team right\n",
       "2      0  underdog earlier today since gronks announceme...\n",
       "3      0            meme isnt funny none new york nigga one\n",
       "4      0                                 could use one tool\n",
       "5      0  dont pay attention long shes legal wouldnt kic...\n",
       "6      0                       trick treating general weird\n",
       "7      0                         blade masterymasamune gtfo\n",
       "8      0                      dont good build buy game save\n",
       "9      0                               would love see lolla"
      ]
     },
     "execution_count": 16,
     "metadata": {},
     "output_type": "execute_result"
    }
   ],
   "source": [
    "cleaned_file_path = 'cleaned_comments_FINAL.csv'\n",
    "df.to_csv(cleaned_file_path, index=False)\n",
    "\n",
    "print(f\"Cleaned dataset saved to {cleaned_file_path}\")\n",
    "print(\"cleaned Data:\")\n",
    "df.head(10)"
   ]
  },
  {
   "cell_type": "markdown",
   "id": "7250dfce-3b39-4b61-8ea5-b5957613e18f",
   "metadata": {},
   "source": [
    "Checking the distribution of labels"
   ]
  },
  {
   "cell_type": "code",
   "execution_count": 17,
   "id": "5c72c500-a7cf-4c38-a09f-cc55937c9993",
   "metadata": {},
   "outputs": [
    {
     "name": "stdout",
     "output_type": "stream",
     "text": [
      "\n",
      "Label distribution:\n",
      "label\n",
      "0    84970\n",
      "1    65015\n",
      "Name: count, dtype: int64\n"
     ]
    }
   ],
   "source": [
    "label_counts = df['label'].value_counts()\n",
    "print(\"\\nLabel distribution:\")\n",
    "print(label_counts)"
   ]
  },
  {
   "cell_type": "code",
   "execution_count": 18,
   "id": "01083b5b-4f93-4ea2-823f-5f69180dd945",
   "metadata": {},
   "outputs": [],
   "source": [
    "# Identifying minority and majority classes\n",
    "minority_class_size = label_counts.min()\n",
    "majority_class = label_counts.idxmax()\n",
    "minority_class = label_counts.idxmin()\n",
    "\n",
    "# Downsampling the majority class\n",
    "df_majority = df[df['label'] == majority_class]\n",
    "df_minority = df[df['label'] == minority_class]\n",
    "df_majority_downsampled = df_majority.sample(n=minority_class_size, random_state=42)\n",
    "\n",
    "# Combining the downsampled majority class with the minority class\n",
    "df_balanced = pd.concat([df_majority_downsampled, df_minority])\n",
    "\n",
    "# Shuffling the dataset to mix the classes\n",
    "df_balanced = df_balanced.sample(frac=1, random_state=42).reset_index(drop=True)"
   ]
  },
  {
   "cell_type": "markdown",
   "id": "acdbfb0c-00e3-4be1-a9d5-1de4f135efcd",
   "metadata": {},
   "source": [
    "Displaying the new label distribution"
   ]
  },
  {
   "cell_type": "code",
   "execution_count": 22,
   "id": "46ebca1f-6f9f-4e95-b024-9d995fa9ebed",
   "metadata": {},
   "outputs": [
    {
     "name": "stdout",
     "output_type": "stream",
     "text": [
      "\n",
      "New label distribution:\n",
      "label\n",
      "1    65015\n",
      "0    65015\n",
      "Name: count, dtype: int64\n"
     ]
    }
   ],
   "source": [
    "new_label_counts = df_balanced['label'].value_counts()\n",
    "print(\"\\nNew label distribution:\")\n",
    "print(new_label_counts)\n",
    "\n",
    "cleaned_file_path = 'cleaned_balanced_dataset_FINAL.csv'\n",
    "df_balanced.to_csv(cleaned_file_path, index=False)"
   ]
  },
  {
   "cell_type": "markdown",
   "id": "90f1181b-32ba-4dcb-bc2a-411ea70aa2d3",
   "metadata": {},
   "source": [
    "VISUALIZATION"
   ]
  },
  {
   "cell_type": "code",
   "execution_count": 23,
   "id": "e51cf535-37e1-485e-bc6d-3de50373400f",
   "metadata": {},
   "outputs": [
    {
     "data": {
      "image/png": "[encoded data removed]",
      "text/plain": [
       "<Figure size 800x600 with 1 Axes>"
      ]
     },
     "metadata": {},
     "output_type": "display_data"
    }
   ],
   "source": [
    "# Import necessary libraries for visualization\n",
    "import pandas as pd\n",
    "import matplotlib.pyplot as plt\n",
    "import seaborn as sns\n",
    "\n",
    "# Load the cleaned dataset\n",
    "df = pd.read_csv(cleaned_file_path)\n",
    "\n",
    "# Visualize the number of 1s and 0s in the 'label' column\n",
    "plt.figure(figsize=(8, 6))\n",
    "sns.countplot(x='label', data=df)\n",
    "plt.title('Number of Sarcastic (1) and Non-Sarcastic (0) Comments')\n",
    "plt.xlabel('Label')\n",
    "plt.ylabel('Count')\n",
    "plt.xticks([0, 1], ['Non-Sarcastic', 'Sarcastic'])\n",
    "plt.show()\n"
   ]
  },
  {
   "cell_type": "markdown",
   "id": "eae90dc3-58ea-4c79-9f89-c3a7142caed2",
   "metadata": {},
   "source": [
    "SPLITING THE CLEANED DATASET TO 80% TRAIN AND 20% TEST DATASETS"
   ]
  },
  {
   "cell_type": "code",
   "execution_count": 24,
   "id": "624a79fb-8525-4906-8bde-db473e5cf957",
   "metadata": {},
   "outputs": [],
   "source": [
    "from sklearn.model_selection import train_test_split\n",
    "# Separate data into 0s and 1s\n",
    "data_0 = df_balanced[df_balanced['label'] == 0]\n",
    "data_1 = df_balanced[df_balanced['label'] == 1]\n",
    "\n",
    "# Split each into 80% train and 20% test\n",
    "train_0, test_0 = train_test_split(data_0, test_size=0.2, random_state=1)\n",
    "train_1, test_1 = train_test_split(data_1, test_size=0.2, random_state=1)\n",
    "\n",
    "# Combine the training and testing sets\n",
    "train_data = pd.concat([train_0, train_1])\n",
    "test_data = pd.concat([test_0, test_1])\n",
    "\n",
    "# Shuffle the combined training and testing datasets\n",
    "train_data = train_data.sample(frac=1, random_state=1).reset_index(drop=True)\n",
    "test_data = test_data.sample(frac=1, random_state=1).reset_index(drop=True)\n",
    "\n",
    "# Save the training and testing datasets to new CSV files\n",
    "train_file_path = 'train_dataset_FINAL.csv'\n",
    "test_file_path = 'test_dataset_FINAL.csv'\n",
    "\n",
    "train_data.to_csv(train_file_path, index=False)\n",
    "test_data.to_csv(test_file_path, index=False)"
   ]
  },
  {
   "cell_type": "code",
   "execution_count": 26,
   "id": "ffedbad4-92a7-4e3f-8008-917618b82404",
   "metadata": {},
   "outputs": [
    {
     "name": "stdout",
     "output_type": "stream",
     "text": [
      "Count of 0s and 1s in the 'label' column of the training dataset:\n",
      "label\n",
      "1    52012\n",
      "0    52012\n",
      "Name: count, dtype: int64\n",
      "Count of 0s and 1s in the 'label' column of the testing dataset:\n",
      "label\n",
      "1    13003\n",
      "0    13003\n",
      "Name: count, dtype: int64\n",
      "Training dataset saved to train_dataset_FINAL.csv\n",
      "Testing dataset saved to test_dataset_FINAL.csv\n",
      "Display the top 10 rows of the cleaned TRAIN dataset:\n",
      "   label                                            comment\n",
      "0      1  say large terrorist force invades canada wish ...\n",
      "1      1             okay extension reasoning malay pm also\n",
      "2      1                                             better\n",
      "3      1                                               shut\n",
      "4      1                         maybe multiple personality\n",
      "5      1                          im sure palestinian agree\n",
      "6      1               creeper older pocket edition fanbase\n",
      "7      0                               go vote manipulation\n",
      "8      0                                         never scam\n",
      "9      1  trump using petty schoolyard bully tactic shoc...\n",
      "Display the top 10 rows of the cleaned TEST dataset\n"
     ]
    },
    {
     "data": {
      "text/html": [
       "<div>\n",
       "<style scoped>\n",
       "    .dataframe tbody tr th:only-of-type {\n",
       "        vertical-align: middle;\n",
       "    }\n",
       "\n",
       "    .dataframe tbody tr th {\n",
       "        vertical-align: top;\n",
       "    }\n",
       "\n",
       "    .dataframe thead th {\n",
       "        text-align: right;\n",
       "    }\n",
       "</style>\n",
       "<table border=\"1\" class=\"dataframe\">\n",
       "  <thead>\n",
       "    <tr style=\"text-align: right;\">\n",
       "      <th></th>\n",
       "      <th>label</th>\n",
       "      <th>comment</th>\n",
       "    </tr>\n",
       "  </thead>\n",
       "  <tbody>\n",
       "    <tr>\n",
       "      <th>0</th>\n",
       "      <td>1</td>\n",
       "      <td>love censorship</td>\n",
       "    </tr>\n",
       "    <tr>\n",
       "      <th>1</th>\n",
       "      <td>0</td>\n",
       "      <td>wont fix anything pmm got ammo buff next patch</td>\n",
       "    </tr>\n",
       "    <tr>\n",
       "      <th>2</th>\n",
       "      <td>1</td>\n",
       "      <td>isnt competitive pve best</td>\n",
       "    </tr>\n",
       "    <tr>\n",
       "      <th>3</th>\n",
       "      <td>0</td>\n",
       "      <td>omg beautiful nail im totally stealing impress...</td>\n",
       "    </tr>\n",
       "    <tr>\n",
       "      <th>4</th>\n",
       "      <td>0</td>\n",
       "      <td>thought akroyds nixon pretty good</td>\n",
       "    </tr>\n",
       "    <tr>\n",
       "      <th>5</th>\n",
       "      <td>1</td>\n",
       "      <td>though wanted sit move section</td>\n",
       "    </tr>\n",
       "    <tr>\n",
       "      <th>6</th>\n",
       "      <td>0</td>\n",
       "      <td>thats kind amazing though</td>\n",
       "    </tr>\n",
       "    <tr>\n",
       "      <th>7</th>\n",
       "      <td>0</td>\n",
       "      <td>sporting event winner stock market etc basical...</td>\n",
       "    </tr>\n",
       "    <tr>\n",
       "      <th>8</th>\n",
       "      <td>1</td>\n",
       "      <td>maybe shes high priced call girl</td>\n",
       "    </tr>\n",
       "    <tr>\n",
       "      <th>9</th>\n",
       "      <td>0</td>\n",
       "      <td>got penalty watching dive</td>\n",
       "    </tr>\n",
       "  </tbody>\n",
       "</table>\n",
       "</div>"
      ],
      "text/plain": [
       "   label                                            comment\n",
       "0      1                                    love censorship\n",
       "1      0     wont fix anything pmm got ammo buff next patch\n",
       "2      1                          isnt competitive pve best\n",
       "3      0  omg beautiful nail im totally stealing impress...\n",
       "4      0                  thought akroyds nixon pretty good\n",
       "5      1                     though wanted sit move section\n",
       "6      0                          thats kind amazing though\n",
       "7      0  sporting event winner stock market etc basical...\n",
       "8      1                   maybe shes high priced call girl\n",
       "9      0                          got penalty watching dive"
      ]
     },
     "execution_count": 26,
     "metadata": {},
     "output_type": "execute_result"
    }
   ],
   "source": [
    "# Display the count of 0s and 1s in the training and testing datasets\n",
    "train_label_counts = train_data['label'].value_counts()\n",
    "test_label_counts = test_data['label'].value_counts()\n",
    "\n",
    "print(\"Count of 0s and 1s in the 'label' column of the training dataset:\")\n",
    "print(train_label_counts)\n",
    "\n",
    "print(\"Count of 0s and 1s in the 'label' column of the testing dataset:\")\n",
    "print(test_label_counts)\n",
    "\n",
    "print(f\"Training dataset saved to {train_file_path}\")\n",
    "print(f\"Testing dataset saved to {test_file_path}\")\n",
    "\n",
    "\n",
    "\n",
    "# Display the top 10 rows of the cleaned train dataset\n",
    "print(\"Display the top 10 rows of the cleaned TRAIN dataset:\")\n",
    "train_data = pd.read_csv(train_file_path)\n",
    "print(train_data.head(10))\n",
    "\n",
    "# Display the top 10 rows of the cleaned test dataset\n",
    "print(\"Display the top 10 rows of the cleaned TEST dataset\")\n",
    "test_data = pd.read_csv(test_file_path)\n",
    "test_data.head(10)"
   ]
  },
  {
   "cell_type": "code",
   "execution_count": null,
   "id": "9e7d5c00-1197-4fda-8d19-4766ce76d729",
   "metadata": {},
   "outputs": [],
   "source": []
  },
  {
   "cell_type": "markdown",
   "id": "d97fcc91-6bea-4501-a5a3-6214e004d76e",
   "metadata": {},
   "source": [
    "# SUMMARY\n",
    "In this code, we performed a series of data cleaning steps on a dataset containing comments labeled as sarcastic or non-sarcastic. We began by importing necessary libraries like pandas, numpy, re, and NLTK tools for text processing. We downloaded NLTK stopwords and wordnet data for text cleaning purposes.\n",
    "\n",
    "Next, we loaded the dataset from a CSV file and removed duplicate rows to ensure unique entries. We also eliminated rows with missing values in the 'label' and 'comment' columns. We ensured the dataset contained only the 'label' and 'comment' columns and filtered the data to retain only rows with labels 0 and 1.\n",
    "\n",
    "A text cleaning function was defined to convert text to lowercase and remove special characters and numbers. We applied this function to the 'comment' column. Additionally, we performed optional preprocessing steps: removing stopwords and lemmatizing the text to reduce words to their root form. This was done using NLTK's stopwords and WordNetLemmatizer.\n",
    "\n",
    "Then, we saved the cleaned dataset to a new CSV file, ensuring the data was properly prepared for further analysis or modeling.\n",
    "\n",
    "Later, we split the cleaned dataset into train and test dataset, also ensuring that there are equal number of sarcastic and non-sarcastic comments for efficient training of our model. \n",
    "\n",
    "Finally, we saved the cleaned, balanced train and test data into new CSV files, ensuring the data was properly prepared for further analysis or modeling."
   ]
  },
  {
   "cell_type": "code",
   "execution_count": null,
   "id": "52b9d49d-5725-4e43-a62b-60e8ea870c8a",
   "metadata": {},
   "outputs": [],
   "source": []
  }
 ],
 "metadata": {
  "kernelspec": {
   "display_name": "Python 3 (ipykernel)",
   "language": "python",
   "name": "python3"
  },
  "language_info": {
   "codemirror_mode": {
    "name": "ipython",
    "version": 3
   },
   "file_extension": ".py",
   "mimetype": "text/x-python",
   "name": "python",
   "nbconvert_exporter": "python",
   "pygments_lexer": "ipython3",
   "version": "3.12.2"
  }
 },
 "nbformat": 4,
 "nbformat_minor": 5
}
