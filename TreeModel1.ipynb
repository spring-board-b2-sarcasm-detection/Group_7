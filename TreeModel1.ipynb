{
 "cells": [
  {
   "cell_type": "code",
   "execution_count": 1,
   "id": "b7561543-c968-4e95-878c-5ca8feb077d7",
   "metadata": {},
   "outputs": [
    {
     "name": "stdout",
     "output_type": "stream",
     "text": [
      "Data loaded successfully. Here are the first few rows:\n",
      "   label                                            comment\n",
      "0      1                                               need\n",
      "1      0                               might well milk last\n",
      "2      1                                       ask locktrap\n",
      "3      1  im glad community doesnt make console player f...\n",
      "4      0                                    joke put stitch\n"
     ]
    }
   ],
   "source": [
    "import pandas as pd\n",
    "from sklearn.model_selection import train_test_split, GridSearchCV\n",
    "from sklearn.tree import DecisionTreeClassifier\n",
    "from sklearn.metrics import accuracy_score, classification_report, confusion_matrix\n",
    "from sklearn.tree import export_text\n",
    "import matplotlib.pyplot as plt\n",
    "from sklearn.tree import plot_tree\n",
    "from sklearn.feature_extraction.text import CountVectorizer\n",
    "\n",
    "# Load the dataset\n",
    "file_path = 'cleaned_balanced_dataset_FINAL.csv'  # Update this with the correct file path\n",
    "data = pd.read_csv(file_path)\n",
    "\n",
    "# Display the first few rows of the dataset\n",
    "print(\"Data loaded successfully. Here are the first few rows:\")\n",
    "print(data.head())\n"
   ]
  },
  {
   "cell_type": "code",
   "execution_count": 2,
   "id": "e8ab1f9c-1d97-4960-9c69-311e1e6ab60e",
   "metadata": {},
   "outputs": [
    {
     "name": "stdout",
     "output_type": "stream",
     "text": [
      "Data preprocessed successfully. Shape of training data: (91021, 53030)\n"
     ]
    }
   ],
   "source": [
    "# Assuming 'label' is the target variable and the rest are features\n",
    "X = data.drop('label', axis=1)\n",
    "y = data['label']\n",
    "\n",
    "# Handle missing values in the 'comment' column\n",
    "X['comment'].fillna('', inplace=True)\n",
    "\n",
    "# If the features are text, vectorize them\n",
    "vectorizer = CountVectorizer()\n",
    "X_vect = vectorizer.fit_transform(X['comment'])\n",
    "\n",
    "# Split the dataset into training and testing sets\n",
    "X_train, X_test, y_train, y_test = train_test_split(X_vect, y, test_size=0.3, random_state=42)\n",
    "\n",
    "print(\"Data preprocessed successfully. Shape of training data:\", X_train.shape)\n"
   ]
  },
  {
   "cell_type": "code",
   "execution_count": null,
   "id": "5792e45a-1f86-474c-9bab-e501126f6cfb",
   "metadata": {},
   "outputs": [
    {
     "name": "stdout",
     "output_type": "stream",
     "text": [
      "Fitting 5 folds for each of 108 candidates, totalling 540 fits\n"
     ]
    }
   ],
   "source": [
    "# Define the parameter grid\n",
    "param_grid = {\n",
    "    'criterion': ['gini', 'entropy'],\n",
    "    'max_depth': [None, 10, 20, 30, 40, 50],\n",
    "    'min_samples_split': [2, 5, 10],\n",
    "    'min_samples_leaf': [1, 2, 4]\n",
    "}\n",
    "\n",
    "# Initialize the Decision Tree Classifier\n",
    "clf = DecisionTreeClassifier(random_state=42)\n",
    "\n",
    "# Initialize GridSearchCV\n",
    "grid_search = GridSearchCV(estimator=clf, param_grid=param_grid, cv=5, n_jobs=-1, verbose=2)\n",
    "\n",
    "# Fit GridSearchCV\n",
    "grid_search.fit(X_train, y_train)\n",
    "\n",
    "# Get the best parameters\n",
    "best_params = grid_search.best_params_\n",
    "print(f'Best Parameters: {best_params}')\n"
   ]
  },
  {
   "cell_type": "code",
   "execution_count": null,
   "id": "c141d006-a361-4214-ab65-eae5aa316989",
   "metadata": {},
   "outputs": [],
   "source": [
    "# Train the model with the best parameters\n",
    "clf_best = DecisionTreeClassifier(**best_params, random_state=42)\n",
    "clf_best.fit(X_train, y_train)\n",
    "print(\"Model trained successfully with best parameters.\")\n"
   ]
  },
  {
   "cell_type": "code",
   "execution_count": null,
   "id": "248d6a8e-1889-46d4-98cf-4ca9753fe9ad",
   "metadata": {},
   "outputs": [],
   "source": [
    "# Make predictions\n",
    "y_pred = clf_best.predict(X_test)\n",
    "\n",
    "# Assess the accuracy\n",
    "accuracy = accuracy_score(y_test, y_pred)\n",
    "print(f'Accuracy: {accuracy:.2f}')\n",
    "\n",
    "# Detailed classification report\n",
    "print('Classification Report:')\n",
    "print(classification_report(y_test, y_pred))\n",
    "\n",
    "# Confusion Matrix\n",
    "print('Confusion Matrix:')\n",
    "print(confusion_matrix(y_test, y_pred))\n"
   ]
  },
  {
   "cell_type": "code",
   "execution_count": null,
   "id": "9e31954e-3f59-4137-9189-611de20f4a0e",
   "metadata": {},
   "outputs": [],
   "source": [
    "# Visualize the Decision Tree\n",
    "plt.figure(figsize=(20,10))\n",
    "plot_tree(clf_best, filled=True, feature_names=vectorizer.get_feature_names_out(), class_names=['0', '1'], rounded=True)\n",
    "plt.show()\n",
    "\n",
    "# Display the tree as text\n",
    "tree_rules = export_text(clf_best, feature_names=list(vectorizer.get_feature_names_out()))\n",
    "print(\"Decision Tree Rules:\")\n",
    "print(tree_rules)\n"
   ]
  }
 ],
 "metadata": {
  "kernelspec": {
   "display_name": "Python 3 (ipykernel)",
   "language": "python",
   "name": "python3"
  },
  "language_info": {
   "codemirror_mode": {
    "name": "ipython",
    "version": 3
   },
   "file_extension": ".py",
   "mimetype": "text/x-python",
   "name": "python",
   "nbconvert_exporter": "python",
   "pygments_lexer": "ipython3",
   "version": "3.11.7"
  }
 },
 "nbformat": 4,
 "nbformat_minor": 5
}
