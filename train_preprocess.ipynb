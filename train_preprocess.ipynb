{
 "cells": [
  {
   "cell_type": "code",
   "execution_count": 20,
   "id": "f483c67a-1396-4dd0-98fa-b7f10fe32c55",
   "metadata": {},
   "outputs": [
    {
     "name": "stderr",
     "output_type": "stream",
     "text": [
      "[nltk_data] Downloading package stopwords to\n",
      "[nltk_data]     C:\\Users\\hp\\AppData\\Roaming\\nltk_data...\n",
      "[nltk_data]   Package stopwords is already up-to-date!\n"
     ]
    },
    {
     "data": {
      "text/plain": [
       "True"
      ]
     },
     "execution_count": 20,
     "metadata": {},
     "output_type": "execute_result"
    }
   ],
   "source": [
    "import pandas as pd\n",
    "import re\n",
    "import nltk\n",
    "from nltk.corpus import stopwords\n",
    "\n",
    "nltk.download('stopwords')"
   ]
  },
  {
   "cell_type": "code",
   "execution_count": 21,
   "id": "d78882fd-99b0-4050-b725-849154f046ff",
   "metadata": {},
   "outputs": [
    {
     "name": "stderr",
     "output_type": "stream",
     "text": [
      "C:\\Users\\hp\\AppData\\Local\\Temp\\ipykernel_16308\\2615139025.py:1: DtypeWarning: Columns (1) have mixed types. Specify dtype option on import or set low_memory=False.\n",
      "  train_df = pd.read_csv('train.csv')\n"
     ]
    }
   ],
   "source": [
    "train_df = pd.read_csv('train.csv')"
   ]
  },
  {
   "cell_type": "code",
   "execution_count": 22,
   "id": "081f0f91-1148-43eb-be09-ec54b820edbc",
   "metadata": {},
   "outputs": [],
   "source": [
    "# Remove rows with missing values and duplicates in training data\n",
    "train_df.dropna(inplace=True)\n",
    "train_df.drop_duplicates(inplace=True)"
   ]
  },
  {
   "cell_type": "code",
   "execution_count": 23,
   "id": "8393b633-68bc-4c29-8298-df8a63deccdc",
   "metadata": {},
   "outputs": [],
   "source": [
    "# Ensure only relevant columns are kept\n",
    "train_df = train_df[['label', 'comment']]"
   ]
  },
  {
   "cell_type": "code",
   "execution_count": 24,
   "id": "b1ea621a-18f4-4b49-87b4-36aef0e9dd5e",
   "metadata": {},
   "outputs": [],
   "source": [
    "def clean_text(text):\n",
    "    # Remove HTML tags\n",
    "    text = re.sub(r'<.*?>', '', text)\n",
    "    \n",
    "    # Remove non-alphanumeric characters\n",
    "    text = re.sub(r'[^a-zA-Z0-9\\s]', '', text)\n",
    "    \n",
    "    # Convert to lowercase\n",
    "    text = text.lower()\n",
    "    \n",
    "    # Remove stop words\n",
    "    stop_words = set(stopwords.words('english'))\n",
    "    text = ' '.join(word for word in text.split() if word not in stop_words)\n",
    "    \n",
    "    return text\n",
    "\n",
    "train_df['cleaned_comment'] = train_df['comment'].apply(clean_text)"
   ]
  },
  {
   "cell_type": "code",
   "execution_count": 25,
   "id": "d640f63b-d3c3-4bdf-b3d2-bf3ca38be1f0",
   "metadata": {},
   "outputs": [],
   "source": [
    "# Balancing the training dataset\n",
    "count_1s = train_df['label'].value_counts()[1]\n",
    "count_0s = train_df['label'].value_counts()[0]\n",
    "diff = abs(count_1s - count_0s)"
   ]
  },
  {
   "cell_type": "code",
   "execution_count": 27,
   "id": "7e8251fc-f8c2-4e76-895e-002e3f456071",
   "metadata": {},
   "outputs": [
    {
     "name": "stdout",
     "output_type": "stream",
     "text": [
      "41361\n"
     ]
    }
   ],
   "source": [
    "print(count_1s)"
   ]
  },
  {
   "cell_type": "code",
   "execution_count": 29,
   "id": "c5d92b48-135c-480f-927d-35d86e164985",
   "metadata": {},
   "outputs": [
    {
     "name": "stdout",
     "output_type": "stream",
     "text": [
      "55803\n"
     ]
    }
   ],
   "source": [
    "print(count_0s)"
   ]
  },
  {
   "cell_type": "code",
   "execution_count": 30,
   "id": "b049c03a-e19c-422c-8216-2021804a0ee9",
   "metadata": {},
   "outputs": [],
   "source": [
    "if count_1s > count_0s:\n",
    "    # Remove extra 1s\n",
    "    data_1s = train_df[train_df['label'] == 1]\n",
    "    data_0s = train_df[train_df['label'] == 0]\n",
    "    data_1s_balanced = data_1s.sample(n=count_0s)\n",
    "    balanced_train_df = pd.concat([data_1s_balanced, data_0s])\n",
    "else:\n",
    "    # Remove extra 0s\n",
    "    data_1s = train_df[train_df['label'] == 1]\n",
    "    data_0s = train_df[train_df['label'] == 0]\n",
    "    data_0s_balanced = data_0s.sample(n=count_1s)\n",
    "    balanced_train_df = pd.concat([data_1s, data_0s_balanced])"
   ]
  },
  {
   "cell_type": "code",
   "execution_count": 31,
   "id": "39a2ab72-0da8-48d4-b807-7f1843f1ed9f",
   "metadata": {},
   "outputs": [],
   "source": [
    "# Save the cleaned and balanced datasets\n",
    "balanced_train_df.to_csv('cleaned_balanced_train_data.csv', index=False)"
   ]
  },
  {
   "cell_type": "code",
   "execution_count": 32,
   "id": "325a068c-2f68-4581-bed1-de97b7fe2fdf",
   "metadata": {},
   "outputs": [
    {
     "name": "stdout",
     "output_type": "stream",
     "text": [
      "Cleaned and Balanced Training Data:\n",
      "    label                                            comment  \\\n",
      "30    1.0                But they'll have all those reviews!   \n",
      "40    1.0  wow it is totally unreasonable to assume that ...   \n",
      "41    1.0  Ho ho ho... But Melania said that there is no ...   \n",
      "59    1.0  I can't wait until @potus starts a twitter war...   \n",
      "62    1.0  gotta love the teachers who give exams on the ...   \n",
      "\n",
      "                                      cleaned_comment  \n",
      "30                                     theyll reviews  \n",
      "40  wow totally unreasonable assume agency covered...  \n",
      "41  ho ho ho melania said way could happened didnt...  \n",
      "59     cant wait potus starts twitter war morning joe  \n",
      "62       gotta love teachers give exams day halloween  \n"
     ]
    }
   ],
   "source": [
    "# Display the first few rows of the cleaned and balanced training data\n",
    "print(\"Cleaned and Balanced Training Data:\")\n",
    "print(balanced_train_df.head())"
   ]
  },
  {
   "cell_type": "code",
   "execution_count": 33,
   "id": "1093836b-15b8-4cbe-ab5f-e785755c22a2",
   "metadata": {},
   "outputs": [
    {
     "name": "stdout",
     "output_type": "stream",
     "text": [
      "\n",
      "Balanced Dataset:\n",
      "label\n",
      "1.0    41361\n",
      "0.0    41361\n",
      "Name: count, dtype: int64\n"
     ]
    }
   ],
   "source": [
    "# Display the balanced class distribution in training data\n",
    "print(\"\\nBalanced Dataset:\")\n",
    "print(balanced_train_df['label'].value_counts())"
   ]
  },
  {
   "cell_type": "code",
   "execution_count": null,
   "id": "4fdbf09b-25d1-4d0b-853d-8b0db1a2e50e",
   "metadata": {},
   "outputs": [],
   "source": []
  }
 ],
 "metadata": {
  "kernelspec": {
   "display_name": "Python 3 (ipykernel)",
   "language": "python",
   "name": "python3"
  },
  "language_info": {
   "codemirror_mode": {
    "name": "ipython",
    "version": 3
   },
   "file_extension": ".py",
   "mimetype": "text/x-python",
   "name": "python",
   "nbconvert_exporter": "python",
   "pygments_lexer": "ipython3",
   "version": "3.11.7"
  }
 },
 "nbformat": 4,
 "nbformat_minor": 5
}
