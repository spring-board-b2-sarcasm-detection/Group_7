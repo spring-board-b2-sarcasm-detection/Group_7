{
 "cells": [
  {
   "attachments": {},
   "cell_type": "markdown",
   "id": "20e3bcba-109d-4c92-9080-8e034cef2f4a",
   "metadata": {},
   "source": [
    "Business Problem:\n",
    "Detecting sarcasm is crucial for accurate sentiment analysis in various fields, including customer feedback, public relations, brand management, social media monitoring, and ad campaign analysis. Misinterpreting sarcastic comments can lead to flawed insights and responses, adversely affecting businesses. This project aims to develop a model capable of accurately identifying and understanding sarcasm in textual data to improve sentiment analysis and decision-making processes.\r\n"
   ]
  },
  {
   "cell_type": "markdown",
   "id": "6318197f-4e94-4d01-8687-ed1300ddbfa4",
   "metadata": {},
   "source": [
    "Data Loading and Cleaning: The dataset was loaded from kaggle_train.csv, and missing values in the 'comment' column were filled with empty strings to ensure data integrity. To manage computational resources efficiently, a sample of 10,000 records was selected from the dataset.\n",
    "\n",
    "Label Encoding: Categorical labels (sarcastic or non-sarcastic) were converted into numerical values (0 and 1) using LabelEncoder, making them suitable for machine learning models.\n",
    "\n",
    "Text Vectorization: The TF-IDF vectorizer was employed with a maximum of 5,000 features to transform the text data into numerical features. This method balances the importance of frequent and rare words, providing a meaningful representation of the text data.\n",
    "\n",
    "Train-Test Split: The dataset was divided into training and testing sets using an 80-20 split. This ensures that the model is trained on a substantial portion of the data while being evaluated on unseen data to assess its generalization performance.\n",
    "\n",
    "Model Building: A Convolutional Neural Network (CNN) was constructed using a Sequential model. The architecture included Conv1D layers with ReLU activation to capture local patterns in the text, a GlobalMaxPooling1D layer to reduce dimensionality, and dense layers with dropout for regularization and batch normalization for stability. The final layer was a sigmoid output layer for binary classification.\n",
    "\n",
    "Model Training and Evaluation: The model was trained with early stopping to prevent overfitting and a learning rate scheduler to adjust the learning rate during training. The performance of the model was evaluated on the test set by calculating the F1 score and accuracy. Additionally, a classification report and confusion matrix were generated to provide detailed insights into the model's performance."
   ]
  },
  {
   "cell_type": "markdown",
   "id": "33961b53-c634-4835-9835-2362a5495daf",
   "metadata": {},
   "source": [
    "Import Necessary Libraries"
   ]
  },
  {
   "cell_type": "markdown",
   "id": "8f84819c-d377-47a4-92a1-41b490f884ec",
   "metadata": {},
   "source": [
    "\n",
    "import pandas as pd\n",
    "import numpy as np\n",
    "from sklearn.model_selection import train_test_split\n",
    "from sklearn.preprocessing import LabelEncoder\n",
    "from sklearn.feature_extraction.text import TfidfVectorizer\n",
    "from sklearn.metrics import f1_score, accuracy_score\n",
    "import tensorflow as tf\n",
    "from tensorflow.keras.models import Sequential\n",
    "from tensorflow.keras.layers import Input, Dense, Conv1D, Flatten, Dropout, BatchNormalization\n",
    "from tensorflow.keras.callbacks import EarlyStopping, LearningRateScheduler"
   ]
  },
  {
   "cell_type": "markdown",
   "id": "0f128d42-552e-403b-829e-0d3ec1676846",
   "metadata": {},
   "source": [
    "Loading the dataset and Splitting it"
   ]
  },
  {
   "cell_type": "markdown",
   "id": "0b8822f0-4ca6-40bc-ba9f-73ce3addf3b1",
   "metadata": {},
   "source": [
    "\n",
    "\n",
    "# Load the dataset\n",
    "data = pd.read_csv('kaggle_train.csv')\n",
    "\n",
    "# Handle missing values in the 'comment' column\n",
    "data['comment'].fillna('', inplace=True)\n",
    "\n",
    "# Reduce dataset size for memory efficiency (sample 10,000 records)\n",
    "data = data.sample(n=10000, random_state=42)\n",
    "\n",
    "# Encode target labels if necessary\n",
    "label_column = 'label'\n",
    "label_encoder = LabelEncoder()\n",
    "data[label_column] = label_encoder.fit_transform(data[label_column])\n",
    "\n",
    "# Text Vectorization using TF-IDF with fewer features\n",
    "tfidf = TfidfVectorizer(max_features=1000)\n",
    "X = tfidf.fit_transform(data['comment']).toarray()\n",
    "\n",
    "# Split data into features and target\n",
    "y = data[label_column]\n",
    "\n",
    "# Train-test split\n",
    "X_train, X_test, y_train, y_test = train_test_split(X, y, test_size=0.2, random_state=42)\n",
    "\n",
    "\n"
   ]
  },
  {
   "cell_type": "markdown",
   "id": "6a67960a-3c42-4952-840c-9298329fc4b9",
   "metadata": {},
   "source": [
    "Building the Layers"
   ]
  },
  {
   "cell_type": "markdown",
   "id": "eb37d961-f965-4377-a096-da7cc7ded62b",
   "metadata": {},
   "source": [
    "# Define the CNN model\n",
    "def build_cnn_model():\n",
    "    model = Sequential()\n",
    "    \n",
    "    # Input layer\n",
    "    model.add(Input(shape=(X_train.shape[1], 1)))\n",
    "    \n",
    "    # Conv1D layer\n",
    "    model.add(Conv1D(filters=64, kernel_size=5, activation='relu'))\n",
    "    \n",
    "    # Flatten layer\n",
    "    model.add(Flatten())\n",
    "    \n",
    "    # Dense layers with dropout and batch normalization\n",
    "    model.add(Dense(units=64, activation='relu'))\n",
    "    model.add(Dropout(0.3))\n",
    "    model.add(BatchNormalization())\n",
    "    \n",
    "    model.add(Dense(units=32, activation='relu'))\n",
    "    model.add(Dropout(0.3))\n",
    "    model.add(BatchNormalization())\n",
    "    \n",
    "    # Output layer\n",
    "    model.add(Dense(1, activation='sigmoid'))\n",
    "    \n",
    "    # Compile the model\n",
    "    model.compile(optimizer='adam', loss='binary_crossentropy', metrics=['accuracy'])\n",
    "    \n",
    "    return model\n",
    "\n",
    "# Build the model with the specified configuration\n",
    "model_cnn = build_cnn_model()\n",
    "\n",
    "# Define early stopping and learning rate scheduler\n",
    "early_stopping_cnn = EarlyStopping(monitor='val_loss', patience=10, restore_best_weights=True)\n",
    "\n",
    "def scheduler_cnn(epoch, lr):\n",
    "    if epoch < 10:\n",
    "        return float(lr)\n",
    "    else:\n",
    "        return float(lr * np.exp(-0.1))\n",
    "\n",
    "lr_scheduler_cnn = LearningRateScheduler(scheduler_cnn)\n",
    "\n",
    "# Reshape the data for CNN input\n",
    "X_train_cnn = X_train.reshape(X_train.shape[0], X_train.shape[1], 1)\n",
    "X_test_cnn = X_test.reshape(X_test.shape[0], X_test.shape[1], 1)\n",
    "\n",
    "# Train the CNN model\n",
    "history_cnn = model_cnn.fit(\n",
    "    X_train_cnn, y_train,\n",
    "    epochs=50,\n",
    "    validation_split=0.2,\n",
    "    batch_size=32,\n",
    "    callbacks=[early_stopping_cnn, lr_scheduler_cnn]\n",
    ")\n",
    "\n",
    "# Predict on the test set for CNN model\n",
    "y_pred_cnn = (model_cnn.predict(X_test_cnn) > 0.5).astype(\"int32\")\n",
    "\n",
    "# Calculate the F1 score and accuracy for CNN model\n",
    "f1_cnn = f1_score(y_test, y_pred_cnn)\n",
    "accuracy_cnn = accuracy_score(y_test, y_pred_cnn)\n",
    "print(f\"CNN F1 Score: {f1_cnn}\")\n",
    "print(f\"CNN Accuracy: {accuracy_cnn}\")\n",
    "\n",
    "# Function to preprocess and predict new input for CNN model\n",
    "def preprocess_and_predict_cnn(comment):\n",
    "    # Preprocess the input comment\n",
    "    input_vector = tfidf.transform([comment]).toarray()\n",
    "    input_vector = input_vector.reshape(input_vector.shape[0], input_vector.shape[1], 1)\n",
    "    \n",
    "    # Make prediction\n",
    "    prediction = (model_cnn.predict(input_vector) > 0.5).astype(\"int32\")\n",
    "    return prediction\n",
    "\n"
   ]
  },
  {
   "cell_type": "code",
   "execution_count": null,
   "id": "f8ae6ff5-2ba6-4499-92a1-d18ee953e522",
   "metadata": {},
   "outputs": [
    {
     "name": "stdout",
     "output_type": "stream",
     "text": [
      "\u001b[1m1/1\u001b[0m \u001b[32m━━━━━━━━━━━━━━━━━━━━\u001b[0m\u001b[37m\u001b[0m \u001b[1m0s\u001b[0m 89ms/step\n",
      "Prediction for new comment with CNN model: Not Sarcastic\n"
     ]
    },
    {
     "name": "stdin",
     "output_type": "stream",
     "text": [
      "Enter a comment to check if it is sarcastic or 'exit' to quit:  Just what I needed, more work to do over the weekend.\n"
     ]
    },
    {
     "name": "stdout",
     "output_type": "stream",
     "text": [
      "\u001b[1m1/1\u001b[0m \u001b[32m━━━━━━━━━━━━━━━━━━━━\u001b[0m\u001b[37m\u001b[0m \u001b[1m0s\u001b[0m 100ms/step\n",
      "Prediction: Not Sarcastic\n"
     ]
    },
    {
     "name": "stdin",
     "output_type": "stream",
     "text": [
      "Enter a comment to check if it is sarcastic or 'exit' to quit:  Oh, wonderful, it's raining just when I forgot my umbrella.\n"
     ]
    },
    {
     "name": "stdout",
     "output_type": "stream",
     "text": [
      "\u001b[1m1/1\u001b[0m \u001b[32m━━━━━━━━━━━━━━━━━━━━\u001b[0m\u001b[37m\u001b[0m \u001b[1m0s\u001b[0m 56ms/step\n",
      "Prediction: Sarcastic\n"
     ]
    },
    {
     "name": "stdin",
     "output_type": "stream",
     "text": [
      "Enter a comment to check if it is sarcastic or 'exit' to quit:  Oh great, another meeting that could have been an email.\n"
     ]
    },
    {
     "name": "stdout",
     "output_type": "stream",
     "text": [
      "\u001b[1m1/1\u001b[0m \u001b[32m━━━━━━━━━━━━━━━━━━━━\u001b[0m\u001b[37m\u001b[0m \u001b[1m0s\u001b[0m 118ms/step\n",
      "Prediction: Sarcastic\n"
     ]
    },
    {
     "name": "stdin",
     "output_type": "stream",
     "text": [
      "Enter a comment to check if it is sarcastic or 'exit' to quit:  I enjoyed the movie we watched last night.\n"
     ]
    },
    {
     "name": "stdout",
     "output_type": "stream",
     "text": [
      "\u001b[1m1/1\u001b[0m \u001b[32m━━━━━━━━━━━━━━━━━━━━\u001b[0m\u001b[37m\u001b[0m \u001b[1m0s\u001b[0m 91ms/step\n",
      "Prediction: Sarcastic\n"
     ]
    }
   ],
   "source": [
    "# Function to determine if a comment is sarcastic or not\n",
    "def is_sarcastic(comment):\n",
    "    prediction = preprocess_and_predict_cnn(comment)\n",
    "    if prediction[0][0] == 1:\n",
    "        return \"Sarcastic\"\n",
    "    else:\n",
    "        return \"Not Sarcastic\"\n",
    "\n",
    "# Example usage for new input with CNN model\n",
    "new_comment_cnn = \"This is a sample comment for prediction.\"\n",
    "prediction_cnn = is_sarcastic(new_comment_cnn)\n",
    "print(f\"Prediction for new comment with CNN model: {prediction_cnn}\")\n",
    "\n",
    "# Interactive input for user to check if a comment is sarcastic\n",
    "while True:\n",
    "    user_input = input(\"Enter a comment to check if it is sarcastic or 'exit' to quit: \")\n",
    "    if user_input.lower() == 'exit':\n",
    "        break\n",
    "    print(f\"Prediction: {is_sarcastic(user_input)}\")"
   ]
  },
  {
   "cell_type": "code",
   "execution_count": 5,
   "id": "26a6b9c4-70dc-4825-bfc1-9ace4c4818e5",
   "metadata": {},
   "outputs": [
    {
     "name": "stdout",
     "output_type": "stream",
     "text": [
      "Classification Report:\n",
      "               precision    recall  f1-score   support\n",
      "\n",
      "           0       0.61      0.76      0.68       996\n",
      "           1       0.69      0.51      0.59      1004\n",
      "\n",
      "    accuracy                           0.64      2000\n",
      "   macro avg       0.65      0.64      0.63      2000\n",
      "weighted avg       0.65      0.64      0.63      2000\n",
      "\n"
     ]
    }
   ],
   "source": [
    "from sklearn.metrics import classification_report\n",
    "\n",
    "# Generate and print the classification report\n",
    "report = classification_report(y_test, y_pred_cnn)\n",
    "print(\"Classification Report:\\n\", report)\n"
   ]
  },
  {
   "cell_type": "code",
   "execution_count": 6,
   "id": "f4cb1635-0d98-45f3-9b68-1b08e33f5c4a",
   "metadata": {},
   "outputs": [
    {
     "data": {
      "image/png": "[encoded data removed]",
      "text/plain": [
       "<Figure size 1000x700 with 2 Axes>"
      ]
     },
     "metadata": {},
     "output_type": "display_data"
    }
   ],
   "source": [
    "import matplotlib.pyplot as plt\n",
    "import seaborn as sns\n",
    "from sklearn.metrics import confusion_matrix\n",
    "\n",
    "# Generate the confusion matrix\n",
    "conf_matrix = confusion_matrix(y_test, y_pred_cnn)\n",
    "\n",
    "# Plot the confusion matrix\n",
    "plt.figure(figsize=(10, 7))\n",
    "sns.heatmap(conf_matrix, annot=True, fmt='d', cmap='Blues')\n",
    "plt.xlabel('Predicted')\n",
    "plt.ylabel('Actual')\n",
    "plt.title('Confusion Matrix')\n",
    "plt.show()\n"
   ]
  }
 ],
 "metadata": {
  "kernelspec": {
   "display_name": "Python 3 (ipykernel)",
   "language": "python",
   "name": "python3"
  },
  "language_info": {
   "codemirror_mode": {
    "name": "ipython",
    "version": 3
   },
   "file_extension": ".py",
   "mimetype": "text/x-python",
   "name": "python",
   "nbconvert_exporter": "python",
   "pygments_lexer": "ipython3",
   "version": "3.11.7"
  }
 },
 "nbformat": 4,
 "nbformat_minor": 5
}
