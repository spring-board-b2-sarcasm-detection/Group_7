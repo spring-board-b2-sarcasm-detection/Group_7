{
 "cells": [
  {
   "cell_type": "code",
   "execution_count": 1,
   "id": "076a23c8-1809-4672-925f-2368561916a6",
   "metadata": {},
   "outputs": [
    {
     "name": "stderr",
     "output_type": "stream",
     "text": [
      "[nltk_data] Downloading package stopwords to\n",
      "[nltk_data]     C:\\Users\\hp\\AppData\\Roaming\\nltk_data...\n",
      "[nltk_data]   Package stopwords is already up-to-date!\n"
     ]
    },
    {
     "data": {
      "text/plain": [
       "True"
      ]
     },
     "execution_count": 1,
     "metadata": {},
     "output_type": "execute_result"
    }
   ],
   "source": [
    "import pandas as pd\n",
    "import re\n",
    "import nltk\n",
    "from nltk.corpus import stopwords\n",
    "\n",
    "nltk.download('stopwords')"
   ]
  },
  {
   "cell_type": "code",
   "execution_count": 2,
   "id": "93f5e085-ae0f-47fa-808b-25f5e1145f7b",
   "metadata": {},
   "outputs": [],
   "source": [
    "test_df = pd.read_csv('test.csv')"
   ]
  },
  {
   "cell_type": "code",
   "execution_count": 3,
   "id": "95213ed2-a413-44bc-8067-85991790d0ec",
   "metadata": {},
   "outputs": [],
   "source": [
    "# Remove rows with missing values and duplicates in testing data\n",
    "test_df.dropna(inplace=True)\n",
    "test_df.drop_duplicates(inplace=True)"
   ]
  },
  {
   "cell_type": "code",
   "execution_count": 5,
   "id": "2e6a3a8b-568f-4770-8588-0fa19f6de57e",
   "metadata": {},
   "outputs": [],
   "source": [
    "# Ensure only relevant columns are kept\n",
    "test_df = test_df[['label', 'comment']]"
   ]
  },
  {
   "cell_type": "code",
   "execution_count": 11,
   "id": "cfd3f798-de6a-4eca-8e9a-0984ae1e896d",
   "metadata": {},
   "outputs": [],
   "source": [
    "def clean_text(text):\n",
    "    # Remove HTML tags\n",
    "    text = re.sub(r'<.*?>', '', text)\n",
    "    \n",
    "    # Remove non-alphanumeric characters\n",
    "    text = re.sub(r'[^a-zA-Z0-9\\s]', '', text)\n",
    "    \n",
    "    # Convert to lowercase\n",
    "    text = text.lower()\n",
    "    \n",
    "    # Remove stop words\n",
    "    stop_words = set(stopwords.words('english'))\n",
    "    text = ' '.join(word for word in text.split() if word not in stop_words)\n",
    "    \n",
    "    return text\n",
    "\n",
    "test_df['cleaned_comment'] = test_df['comment'].apply(clean_text)"
   ]
  },
  {
   "cell_type": "code",
   "execution_count": 13,
   "id": "d5c2f172-c3b6-487f-af29-59f77b841f47",
   "metadata": {},
   "outputs": [],
   "source": [
    "# Balancing the testing dataset\n",
    "count_1s = test_df['label'].value_counts()[1]\n",
    "count_0s = test_df['label'].value_counts()[0]\n",
    "diff = abs(count_1s - count_0s)"
   ]
  },
  {
   "cell_type": "code",
   "execution_count": 21,
   "id": "5ad37934-4a5b-4df8-b275-c8cb7f881f0d",
   "metadata": {},
   "outputs": [
    {
     "name": "stdout",
     "output_type": "stream",
     "text": [
      "8379\n"
     ]
    }
   ],
   "source": [
    "print(count_1s)"
   ]
  },
  {
   "cell_type": "code",
   "execution_count": 23,
   "id": "cb71647e-5acc-4c25-9900-a75d094952c9",
   "metadata": {},
   "outputs": [
    {
     "name": "stdout",
     "output_type": "stream",
     "text": [
      "11299\n"
     ]
    }
   ],
   "source": [
    "print(count_0s)"
   ]
  },
  {
   "cell_type": "code",
   "execution_count": 14,
   "id": "3e594cc3-0cf2-4914-be32-12107c0c5981",
   "metadata": {},
   "outputs": [],
   "source": [
    "\n",
    "if count_1s > count_0s:\n",
    "    # Remove extra 1s\n",
    "    data_1s = test_df[test_df['label'] == 1]\n",
    "    data_0s = test_df[test_df['label'] == 0]\n",
    "    data_1s_balanced = data_1s.sample(n=count_0s)\n",
    "    balanced_test_df = pd.concat([data_1s_balanced, data_0s])\n",
    "else:\n",
    "    # Remove extra 0s\n",
    "    data_1s = test_df[test_df['label'] == 1]\n",
    "    data_0s = test_df[test_df['label'] == 0]\n",
    "    data_0s_balanced = data_0s.sample(n=count_1s)\n",
    "    balanced_test_df = pd.concat([data_1s, data_0s_balanced])"
   ]
  },
  {
   "cell_type": "code",
   "execution_count": 15,
   "id": "db8c5de3-148c-4633-8e76-ac2511860f7e",
   "metadata": {},
   "outputs": [],
   "source": [
    "# Save the cleaned and balanced datasets\n",
    "balanced_test_df.to_csv('cleaned_balanced_test_data.csv', index=False)"
   ]
  },
  {
   "cell_type": "code",
   "execution_count": 19,
   "id": "4e7a6632-d00a-4d3c-afd8-1676674bf709",
   "metadata": {},
   "outputs": [
    {
     "name": "stdout",
     "output_type": "stream",
     "text": [
      "Cleaned and Balanced Testing Data:\n",
      "     label                                            comment  \\\n",
      "58     1.0                                Fuck anyone from NJ   \n",
      "87     1.0                 But Snowbowl is opening in 9 days!   \n",
      "98     1.0                It's a metaphorical *physical* wall   \n",
      "109    1.0  Pretty sure Malcolm already gave you the solut...   \n",
      "132    1.0                           Who is Mike Huckleberry?   \n",
      "\n",
      "                                       cleaned_comment  \n",
      "58                                      fuck anyone nj  \n",
      "87                             snowbowl opening 9 days  \n",
      "98                          metaphorical physical wall  \n",
      "109  pretty sure malcolm already gave solution move...  \n",
      "132                                   mike huckleberry  \n"
     ]
    }
   ],
   "source": [
    "# Display the first few rows of the cleaned and balanced testing data\n",
    "print(\"Cleaned and Balanced Testing Data:\")\n",
    "print(balanced_test_df.head())"
   ]
  },
  {
   "cell_type": "code",
   "execution_count": 22,
   "id": "654a0f60-a34a-406c-9fc3-0b790d3ad009",
   "metadata": {},
   "outputs": [
    {
     "name": "stdout",
     "output_type": "stream",
     "text": [
      "\n",
      "Balanced Dataset:\n",
      "label\n",
      "1.0    8379\n",
      "0.0    8379\n",
      "Name: count, dtype: int64\n"
     ]
    }
   ],
   "source": [
    "# Display the balanced class distribution in testing data\n",
    "print(\"\\nBalanced Dataset:\")\n",
    "print(balanced_test_df['label'].value_counts())"
   ]
  }
 ],
 "metadata": {
  "kernelspec": {
   "display_name": "Python 3 (ipykernel)",
   "language": "python",
   "name": "python3"
  },
  "language_info": {
   "codemirror_mode": {
    "name": "ipython",
    "version": 3
   },
   "file_extension": ".py",
   "mimetype": "text/x-python",
   "name": "python",
   "nbconvert_exporter": "python",
   "pygments_lexer": "ipython3",
   "version": "3.11.7"
  }
 },
 "nbformat": 4,
 "nbformat_minor": 5
}
